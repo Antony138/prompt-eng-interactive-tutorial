{
 "cells": [
  {
   "cell_type": "markdown",
   "metadata": {},
   "source": [
    "# 教程使用指南 (Tutorial How-To)\n",
    "\n",
    "本教程**需要 API 密钥 (API key)** 才能进行交互。如果您没有 API 密钥，可以通过 [Anthropic Console](https://console.anthropic.com/) 注册获取，或者查看我们的[静态教程答案键 (static tutorial answer key)](https://docs.google.com/spreadsheets/u/0/d/1jIxjzUWG-6xBVIa2ay6yDpLyeuOh_hR_ZB75a47KX_E/edit)。"
   ]
  },
  {
   "cell_type": "markdown",
   "metadata": {},
   "source": [
    "## 如何开始 (How to get started)\n",
    "\n",
    "1. 将此仓库克隆到您的本地机器。\n",
    "\n",
    "2. 通过运行以下命令安装所需的依赖项 (dependencies)：\n",
    " "
   ]
  },
  {
   "cell_type": "code",
   "execution_count": null,
   "metadata": {},
   "outputs": [],
   "source": [
    "!pip install anthropic"
   ]
  },
  {
   "cell_type": "markdown",
   "metadata": {},
   "source": [
    "3. 设置您的 API 密钥 (API key) 和模型名称 (model name)。将 `\"your_api_key_here\"` 替换为您实际的 Anthropic API 密钥。"
   ]
  },
  {
   "cell_type": "code",
   "execution_count": null,
   "metadata": {},
   "outputs": [],
   "source": [
    "API_KEY = \"your_api_key_here\"\n",
    "MODEL_NAME = \"claude-3-haiku-20240307\"\n",
    "\n",
    "# Stores the API_KEY & MODEL_NAME variables for use across notebooks within the IPython store(存储变量，以便在其他 notebook 也可以使用)\n",
    "%store API_KEY\n",
    "%store MODEL_NAME"
   ]
  },
  {
   "cell_type": "markdown",
   "metadata": {},
   "source": [
    "4. 按顺序运行 notebook 单元格 (cells)，遵循提供的说明。"
   ]
  },
  {
   "cell_type": "markdown",
   "metadata": {},
   "source": [
    "---\n",
    "\n",
    "## 使用说明和技巧 (Usage Notes & Tips) 💡\n",
    "\n",
    "- 本课程使用温度 (temperature) 为 0 的 Claude 3 Haiku。我们将在课程后面详细讨论温度参数。现在，您只需要了解这些设置会产生更确定性的结果 (deterministic results)。本课程中的所有提示工程技术 (prompt engineering techniques) 也适用于上一代传统 Claude 模型，如 Claude 2 和 Claude Instant 1.2。\n",
    "\n",
    "- 您可以使用 `Shift + Enter` 来执行单元格并移动到下一个。\n",
    "\n",
    "- 当您到达教程页面底部时，导航到文件夹中的下一个编号文件，或者如果您已完成该章节文件中的内容，则导航到下一个编号文件夹。\n",
    "\n",
    "### Anthropic SDK 和 Messages API\n",
    "在本教程中，我们将使用 [Anthropic python SDK](https://docs.anthropic.com/claude/reference/client-sdks) 和 [Messages API](https://docs.anthropic.com/claude/reference/messages_post)。\n",
    "\n",
    "下面是在本教程中运行提示 (prompt) 的示例。首先，我们创建 `get_completion`，这是一个辅助函数 (helper function)，它将提示发送给 Claude 并返回 Claude 生成的响应 (response)。现在运行该单元格。"
   ]
  },
  {
   "cell_type": "code",
   "execution_count": null,
   "metadata": {},
   "outputs": [],
   "source": [
    "import anthropic\n",
    "\n",
    "client = anthropic.Anthropic(api_key=API_KEY)\n",
    "\n",
    "def get_completion(prompt: str):\n",
    "    message = client.messages.create(\n",
    "        model=MODEL_NAME,\n",
    "        max_tokens=2000,\n",
    "        temperature=0.0,\n",
    "        messages=[\n",
    "          {\"role\": \"user\", \"content\": prompt}\n",
    "        ]\n",
    "    )\n",
    "    return message.content[0].text"
   ]
  },
  {
   "cell_type": "markdown",
   "metadata": {},
   "source": [
    "现在我们将为 Claude 编写一个示例提示 (prompt)，并通过运行我们的 `get_completion` 辅助函数来打印 Claude 的输出 (output)。运行下面的单元格将在其下方打印出 Claude 的响应。\n",
    "\n",
    "请随意修改提示字符串 (prompt string) 以引发 Claude 的不同响应。"
   ]
  },
  {
   "cell_type": "code",
   "execution_count": null,
   "metadata": {},
   "outputs": [],
   "source": [
    "# Prompt\n",
    "prompt = \"Hello, Claude!\"\n",
    "\n",
    "# Get Claude's response\n",
    "print(get_completion(prompt))"
   ]
  },
  {
   "cell_type": "markdown",
   "metadata": {},
   "source": [
    "之前定义的 `API_KEY` 和 `MODEL_NAME` 变量将在整个教程中使用。只需确保从上到下运行每个教程页面的单元格即可。\n",
    "\n",
    "---\n",
    "\n",
    "*译者注:  当运行最后一个代码块成功后, 会得到response: 「Hello! It's nice to meet you. How can I assist you today?」*\n",
    "\n",
    "*下图展示了成功运行教程的示例：*\n",
    "\n",
    "![教程运行示例](../pictures/1.png)"
   ]
  }
 ],
 "metadata": {
  "kernelspec": {
   "display_name": "py310",
   "language": "python",
   "name": "python3"
  },
  "language_info": {
   "codemirror_mode": {
    "name": "ipython",
    "version": 3
   },
   "file_extension": ".py",
   "mimetype": "text/x-python",
   "name": "python",
   "nbconvert_exporter": "python",
   "version": "3.10.14"
  }
 },
 "nbformat": 4,
 "nbformat_minor": 2
}
